{
  "cells": [
    {
      "cell_type": "markdown",
      "metadata": {
        "id": "view-in-github",
        "colab_type": "text"
      },
      "source": [
        "<a href=\"https://colab.research.google.com/github/mona-gomaa/python_for_DS/blob/python_DS_A/linear_algebra_numpy_(2)_taskDS.ipynb\" target=\"_parent\"><img src=\"https://colab.research.google.com/assets/colab-badge.svg\" alt=\"Open In Colab\"/></a>"
      ]
    },
    {
      "cell_type": "code",
      "source": [
        "#import numpy to use it\n",
        "import numpy as np "
      ],
      "metadata": {
        "id": "4Y_lyX-SSol8"
      },
      "execution_count": null,
      "outputs": []
    },
    {
      "cell_type": "markdown",
      "metadata": {
        "id": "T0KK2DhfRzMj"
      },
      "source": [
        "## Write a Numpy program to compute the multiplication of two given matrixes"
      ]
    },
    {
      "cell_type": "code",
      "execution_count": null,
      "metadata": {
        "colab": {
          "base_uri": "https://localhost:8080/"
        },
        "id": "oMULr3jwRzMm",
        "outputId": "26c9c0a8-6d81-4030-c3b0-e9c513cbe4a2"
      },
      "outputs": [
        {
          "output_type": "stream",
          "name": "stdout",
          "text": [
            "[[ 1  0  9]\n",
            " [ 0 10  0]]\n"
          ]
        }
      ],
      "source": [
        "#create matrices\n",
        "mat1=np.array([[1,2,3],\n",
        "               [0,5,0]])\n",
        "\n",
        "mat2=np.array([[1,0,3],\n",
        "               [9,2,8]])\n",
        "#operation\n",
        "print(mat1 * mat2)\n"
      ]
    },
    {
      "cell_type": "code",
      "execution_count": null,
      "metadata": {
        "id": "hkjqbwvwRzMm"
      },
      "outputs": [],
      "source": []
    },
    {
      "cell_type": "markdown",
      "metadata": {
        "id": "ZC0oeXJnRzMn"
      },
      "source": [
        "## Write a NumPy program to compute the determinant of a given square array"
      ]
    },
    {
      "cell_type": "code",
      "execution_count": null,
      "metadata": {
        "colab": {
          "base_uri": "https://localhost:8080/"
        },
        "id": "RxSB1E1MRzMn",
        "outputId": "a30ab5a6-76bd-4ea0-a24c-b776be8c5b39"
      },
      "outputs": [
        {
          "output_type": "execute_result",
          "data": {
            "text/plain": [
              "4.999999999999999"
            ]
          },
          "metadata": {},
          "execution_count": 8
        }
      ],
      "source": [
        "#create square array\n",
        "\n",
        "arr = np.array([[1,2],\n",
        "               [1,7]])\n",
        "res=np.linalg.det(arr)\n",
        "res\n"
      ]
    },
    {
      "cell_type": "code",
      "execution_count": null,
      "metadata": {
        "id": "kb1YO3npRzMn"
      },
      "outputs": [],
      "source": []
    },
    {
      "cell_type": "markdown",
      "metadata": {
        "id": "pqUr0b8rRzMn"
      },
      "source": [
        "## Write a NumPy program to compute the cross product of two given vectors"
      ]
    },
    {
      "cell_type": "code",
      "execution_count": null,
      "metadata": {
        "colab": {
          "base_uri": "https://localhost:8080/"
        },
        "id": "xWiLM5h6RzMo",
        "outputId": "ac541721-f5ca-4122-fd72-cc1752697c50"
      },
      "outputs": [
        {
          "output_type": "stream",
          "name": "stdout",
          "text": [
            "10\n"
          ]
        }
      ],
      "source": [
        "v_1=np.array([1,2,3])\n",
        "\n",
        "v_2=np.array([1,0,3])\n",
        "\n",
        "print(v_1 .dot(v_2))"
      ]
    },
    {
      "cell_type": "code",
      "execution_count": null,
      "metadata": {
        "id": "5XZu1vpHRzMo"
      },
      "outputs": [],
      "source": []
    },
    {
      "cell_type": "markdown",
      "metadata": {
        "id": "x1pjPZ0yRzMo"
      },
      "source": [
        "## Write a NumPy program to compute the condition number of a given matrix"
      ]
    },
    {
      "cell_type": "code",
      "execution_count": null,
      "metadata": {
        "colab": {
          "base_uri": "https://localhost:8080/"
        },
        "id": "7WrUiOM8RzMo",
        "outputId": "ae81a301-d611-407a-c929-4133f9a3d078"
      },
      "outputs": [
        {
          "output_type": "stream",
          "name": "stdout",
          "text": [
            "The condition number of the matrix A is: 3.813147060626918e+16\n"
          ]
        }
      ],
      "source": [
        "#create matrix\n",
        "A = np.array([[1, 2, 3], [4, 5, 6], [7, 8, 9]])\n",
        "\n",
        "cond_num = np.linalg.cond(A)\n",
        "\n",
        "print(\"The condition number of the matrix A is:\", cond_num)\n"
      ]
    },
    {
      "cell_type": "code",
      "execution_count": null,
      "metadata": {
        "id": "rUSPNwemRzMo"
      },
      "outputs": [],
      "source": []
    },
    {
      "cell_type": "markdown",
      "metadata": {
        "id": "sQ8J7-c9RzMp"
      },
      "source": [
        "## Write a NumPy program to compute the inverse of a given matrix"
      ]
    },
    {
      "cell_type": "code",
      "execution_count": null,
      "metadata": {
        "id": "DVJRtFb7RzMp"
      },
      "outputs": [],
      "source": [
        "\n",
        "mat=np.array([\n",
        "    [1,2],\n",
        "    [2,2]\n",
        "    \n",
        "])"
      ]
    },
    {
      "cell_type": "code",
      "execution_count": null,
      "metadata": {
        "colab": {
          "base_uri": "https://localhost:8080/"
        },
        "id": "aXV3gE4kRzMp",
        "outputId": "a3ec7c51-148b-45af-e758-04409d657c65"
      },
      "outputs": [
        {
          "output_type": "execute_result",
          "data": {
            "text/plain": [
              "array([[-1. ,  1. ],\n",
              "       [ 1. , -0.5]])"
            ]
          },
          "metadata": {},
          "execution_count": 14
        }
      ],
      "source": [
        "res=np.linalg.inv(mat)\n",
        "res"
      ]
    },
    {
      "cell_type": "code",
      "execution_count": null,
      "metadata": {
        "id": "kUbqzg_CRzMp"
      },
      "outputs": [],
      "source": []
    }
  ],
  "metadata": {
    "kernelspec": {
      "display_name": "Python 3",
      "language": "python",
      "name": "python3"
    },
    "language_info": {
      "codemirror_mode": {
        "name": "ipython",
        "version": 3
      },
      "file_extension": ".py",
      "mimetype": "text/x-python",
      "name": "python",
      "nbconvert_exporter": "python",
      "pygments_lexer": "ipython3",
      "version": "3.7.3"
    },
    "colab": {
      "provenance": [],
      "include_colab_link": true
    }
  },
  "nbformat": 4,
  "nbformat_minor": 0
}